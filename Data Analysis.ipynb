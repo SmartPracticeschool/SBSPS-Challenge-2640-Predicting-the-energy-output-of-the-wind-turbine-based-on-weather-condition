{
 "cells": [
  {
   "cell_type": "code",
   "execution_count": 2,
   "metadata": {},
   "outputs": [],
   "source": [
    "#importing libraies\n",
    "import pandas as pd\n",
    "import numpy as np\n",
    "from matplotlib import pyplot as plt"
   ]
  },
  {
   "cell_type": "code",
   "execution_count": 3,
   "metadata": {},
   "outputs": [],
   "source": [
    "#reading files\n",
    "data = pd.read_csv(\"data.csv\")\n",
    "#print(data)"
   ]
  },
  {
   "cell_type": "code",
   "execution_count": 9,
   "metadata": {},
   "outputs": [
    {
     "name": "stdout",
     "output_type": "stream",
     "text": [
      "Date/Time                         object\n",
      "LV ActivePower (kW)              float64\n",
      "Wind Speed (m/s)                 float64\n",
      "Theoretical_Power_Curve (KWh)    float64\n",
      "Wind Direction (°)               float64\n",
      "dtype: object\n",
      "\n",
      "       LV ActivePower (kW)  Wind Speed (m/s)  Theoretical_Power_Curve (KWh)  \\\n",
      "count         50530.000000      50530.000000                   50530.000000   \n",
      "mean           1307.684332          7.557952                    1492.175463   \n",
      "std            1312.459242          4.227166                    1368.018238   \n",
      "min              -2.471405          0.000000                       0.000000   \n",
      "25%              50.677890          4.201395                     161.328167   \n",
      "50%             825.838074          7.104594                    1063.776283   \n",
      "75%            2482.507568         10.300020                    2964.972462   \n",
      "max            3618.732910         25.206011                    3600.000000   \n",
      "\n",
      "       Wind Direction (°)  \n",
      "count        50530.000000  \n",
      "mean           123.687559  \n",
      "std             93.443736  \n",
      "min              0.000000  \n",
      "25%             49.315437  \n",
      "50%             73.712978  \n",
      "75%            201.696720  \n",
      "max            359.997589  \n"
     ]
    }
   ],
   "source": [
    "#summary\n",
    "print(data.dtypes)\n",
    "print()\n",
    "print(data.describe())"
   ]
  },
  {
   "cell_type": "code",
   "execution_count": 18,
   "metadata": {},
   "outputs": [
    {
     "name": "stdout",
     "output_type": "stream",
     "text": [
      "Date_Time            object\n",
      "ActivePower         float64\n",
      "WindSpeed           float64\n",
      "TheoreticalPower    float64\n",
      "WindDirection       float64\n",
      "dtype: object\n"
     ]
    }
   ],
   "source": [
    "#renaming columns\n",
    "data = data.rename({'Date/Time':'Date_Time','LV ActivePower (kW)':'ActivePower','Wind Speed (m/s)':'WindSpeed','Theoretical_Power_Curve (KWh)':'TheoreticalPower','Wind Direction (°)':'WindDirection'},axis=1)\n",
    "print(data.dtypes)"
   ]
  },
  {
   "cell_type": "code",
   "execution_count": 31,
   "metadata": {},
   "outputs": [
    {
     "name": "stdout",
     "output_type": "stream",
     "text": [
      "No of NULL values\n",
      "Date/Time  0\n",
      "Active Power  0\n",
      "Wind Speed  0\n",
      "Theoretical Power  0\n",
      "Wind Direction  0\n"
     ]
    }
   ],
   "source": [
    "#checking for NULL Values\n",
    "print(\"No of NULL values\")\n",
    "#Date_Time Column\n",
    "na_values = data['Date_Time'].isnull()\n",
    "l = len(data[na_values])\n",
    "print(\"Date/Time \",l)\n",
    "#Active Power Column\n",
    "na_values = data['ActivePower'].isnull()\n",
    "l = len(data[na_values])\n",
    "print(\"Active Power \",l)\n",
    "#Wind Speed\n",
    "na_values = data['WindSpeed'].isnull()\n",
    "l = len(data[na_values])\n",
    "print(\"Wind Speed \",l)\n",
    "#Theoretical power\n",
    "na_values = data['TheoreticalPower'].isnull()\n",
    "l = len(data[na_values])\n",
    "print(\"Theoretical Power \",l)\n",
    "#Wind Direction\n",
    "na_values = data['WindDirection'].isnull()\n",
    "l = len(data[na_values])\n",
    "print(\"Wind Direction \",l)"
   ]
  },
  {
   "cell_type": "code",
   "execution_count": 34,
   "metadata": {},
   "outputs": [
    {
     "name": "stdout",
     "output_type": "stream",
     "text": [
      "<class 'str'>\n",
      "01 01 2018 00:00\n",
      "['01', '01', '2018', '00:00']\n"
     ]
    }
   ],
   "source": [
    "#formatting Date/Time Column\n",
    "print(type(data['Date_Time'][1]))\n",
    "print(data['Date_Time'][0])\n",
    "print(data['Date_Time'][0].split(\" \"))"
   ]
  }
 ],
 "metadata": {
  "kernelspec": {
   "display_name": "Python 3",
   "language": "python",
   "name": "python3"
  },
  "language_info": {
   "codemirror_mode": {
    "name": "ipython",
    "version": 3
   },
   "file_extension": ".py",
   "mimetype": "text/x-python",
   "name": "python",
   "nbconvert_exporter": "python",
   "pygments_lexer": "ipython3",
   "version": "3.6.9"
  }
 },
 "nbformat": 4,
 "nbformat_minor": 2
}
